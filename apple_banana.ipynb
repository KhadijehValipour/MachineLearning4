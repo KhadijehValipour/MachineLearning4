{
 "cells": [
  {
   "attachments": {},
   "cell_type": "markdown",
   "metadata": {},
   "source": [
    "![my picture](https://cdn.firstcry.com/education/2022/10/08180421/I-Like-To-Eat-Apples-And-Bananas-Nursery-Rhyme2-1.jpg)\n",
    "\n",
    "\n",
    "- apple width ≈ 6cm\n",
    "- apple length ≈ 6cm\n",
    "- banana width ≈ 4cm\n",
    "- banana length ≈ 8cm\n",
    "\n",
    "\n",
    "apple : 0\n",
    "\n",
    "banana : 1\n",
    "\n"
   ]
  },
  {
   "cell_type": "code",
   "execution_count": 2,
   "metadata": {},
   "outputs": [],
   "source": [
    "import numpy as np \n",
    "import matplotlib.pyplot as plt"
   ]
  },
  {
   "cell_type": "code",
   "execution_count": 3,
   "metadata": {},
   "outputs": [],
   "source": [
    "n=150\n",
    "apple_width = np.random.normal(6,1,n)\n",
    "apple_length = np.random.normal(6,1,n)\n",
    "\n",
    "banana_width = np.random.normal(4,1,n)\n",
    "banana_length = np.random.normal(8,1,n)"
   ]
  },
  {
   "cell_type": "code",
   "execution_count": 4,
   "metadata": {},
   "outputs": [],
   "source": [
    "x_width = 3\n",
    "x_length = 9"
   ]
  },
  {
   "cell_type": "code",
   "execution_count": 5,
   "metadata": {},
   "outputs": [],
   "source": [
    "y_width = 7\n",
    "y_length = 5"
   ]
  },
  {
   "cell_type": "code",
   "execution_count": 6,
   "metadata": {},
   "outputs": [],
   "source": [
    "z_width = 5\n",
    "z_length = 7"
   ]
  },
  {
   "cell_type": "code",
   "execution_count": 7,
   "metadata": {},
   "outputs": [
    {
     "data": {
      "image/png": "[encoded data removed]",
      "text/plain": [
       "<Figure size 640x480 with 1 Axes>"
      ]
     },
     "metadata": {},
     "output_type": "display_data"
    }
   ],
   "source": [
    "plt.scatter(apple_width , apple_length ,color='red' , marker='.')\n",
    "plt.scatter(banana_width ,banana_length , c='gold' , marker='.')\n",
    "\n",
    "plt.scatter(x_width ,x_length ,c='blue' ,marker='o')\n",
    "plt.scatter(y_width , y_length , c='lime' , marker='o')\n",
    "\n",
    "plt.scatter(z_width ,z_length , c='Black' , marker='o')\n",
    "\n",
    "plt.xlabel(\"width\")\n",
    "plt.ylabel(\"length\")\n",
    "plt.title(\"Apple and Banana\")\n",
    "plt.legend(['apple' ,'banana'])\n",
    "plt.show()"
   ]
  },
  {
   "cell_type": "code",
   "execution_count": 8,
   "metadata": {},
   "outputs": [],
   "source": [
    "#  KNN : K  Nearest Neightbors"
   ]
  },
  {
   "cell_type": "code",
   "execution_count": 9,
   "metadata": {},
   "outputs": [
    {
     "data": {
      "text/plain": [
       "(300, 2)"
      ]
     },
     "execution_count": 9,
     "metadata": {},
     "output_type": "execute_result"
    }
   ],
   "source": [
    "width = np.concatenate((apple_width , banana_width))\n",
    "length = np.concatenate((apple_length , banana_length))\n",
    "\n",
    "X_train = np.array([width , length]).T\n",
    "X_train.shape"
   ]
  },
  {
   "cell_type": "code",
   "execution_count": 10,
   "metadata": {},
   "outputs": [
    {
     "data": {
      "text/plain": [
       "array([[7.5716478 , 5.44004413],\n",
       "       [6.13698323, 8.94217155],\n",
       "       [5.79174429, 4.37737883],\n",
       "       [6.43573384, 5.05512059],\n",
       "       [5.98734713, 6.72329236]])"
      ]
     },
     "execution_count": 10,
     "metadata": {},
     "output_type": "execute_result"
    }
   ],
   "source": [
    "X_train[:5]"
   ]
  },
  {
   "cell_type": "code",
   "execution_count": 11,
   "metadata": {},
   "outputs": [
    {
     "data": {
      "text/plain": [
       "array([0, 0, 0, 0, 0, 0, 0, 0, 0, 0, 0, 0, 0, 0, 0, 0, 0, 0, 0, 0, 0, 0,\n",
       "       0, 0, 0, 0, 0, 0, 0, 0, 0, 0, 0, 0, 0, 0, 0, 0, 0, 0, 0, 0, 0, 0,\n",
       "       0, 0, 0, 0, 0, 0, 0, 0, 0, 0, 0, 0, 0, 0, 0, 0, 0, 0, 0, 0, 0, 0,\n",
       "       0, 0, 0, 0, 0, 0, 0, 0, 0, 0, 0, 0, 0, 0, 0, 0, 0, 0, 0, 0, 0, 0,\n",
       "       0, 0, 0, 0, 0, 0, 0, 0, 0, 0, 0, 0, 0, 0, 0, 0, 0, 0, 0, 0, 0, 0,\n",
       "       0, 0, 0, 0, 0, 0, 0, 0, 0, 0, 0, 0, 0, 0, 0, 0, 0, 0, 0, 0, 0, 0,\n",
       "       0, 0, 0, 0, 0, 0, 0, 0, 0, 0, 0, 0, 0, 0, 0, 0, 0, 0])"
      ]
     },
     "execution_count": 11,
     "metadata": {},
     "output_type": "execute_result"
    }
   ],
   "source": [
    "Y_apples = np.zeros(n ,dtype='int')\n",
    "\n",
    "Y_apples"
   ]
  },
  {
   "cell_type": "code",
   "execution_count": 12,
   "metadata": {},
   "outputs": [
    {
     "data": {
      "text/plain": [
       "array([1, 1, 1, 1, 1, 1, 1, 1, 1, 1, 1, 1, 1, 1, 1, 1, 1, 1, 1, 1, 1, 1,\n",
       "       1, 1, 1, 1, 1, 1, 1, 1, 1, 1, 1, 1, 1, 1, 1, 1, 1, 1, 1, 1, 1, 1,\n",
       "       1, 1, 1, 1, 1, 1, 1, 1, 1, 1, 1, 1, 1, 1, 1, 1, 1, 1, 1, 1, 1, 1,\n",
       "       1, 1, 1, 1, 1, 1, 1, 1, 1, 1, 1, 1, 1, 1, 1, 1, 1, 1, 1, 1, 1, 1,\n",
       "       1, 1, 1, 1, 1, 1, 1, 1, 1, 1, 1, 1, 1, 1, 1, 1, 1, 1, 1, 1, 1, 1,\n",
       "       1, 1, 1, 1, 1, 1, 1, 1, 1, 1, 1, 1, 1, 1, 1, 1, 1, 1, 1, 1, 1, 1,\n",
       "       1, 1, 1, 1, 1, 1, 1, 1, 1, 1, 1, 1, 1, 1, 1, 1, 1, 1])"
      ]
     },
     "execution_count": 12,
     "metadata": {},
     "output_type": "execute_result"
    }
   ],
   "source": [
    "Y_banana = np.ones(n,dtype='int')\n",
    "\n",
    "Y_banana"
   ]
  },
  {
   "cell_type": "code",
   "execution_count": 13,
   "metadata": {},
   "outputs": [
    {
     "data": {
      "text/plain": [
       "array([0, 0, 0, 0, 0, 0, 0, 0, 0, 0, 0, 0, 0, 0, 0, 0, 0, 0, 0, 0, 0, 0,\n",
       "       0, 0, 0, 0, 0, 0, 0, 0, 0, 0, 0, 0, 0, 0, 0, 0, 0, 0, 0, 0, 0, 0,\n",
       "       0, 0, 0, 0, 0, 0, 0, 0, 0, 0, 0, 0, 0, 0, 0, 0, 0, 0, 0, 0, 0, 0,\n",
       "       0, 0, 0, 0, 0, 0, 0, 0, 0, 0, 0, 0, 0, 0, 0, 0, 0, 0, 0, 0, 0, 0,\n",
       "       0, 0, 0, 0, 0, 0, 0, 0, 0, 0, 0, 0, 0, 0, 0, 0, 0, 0, 0, 0, 0, 0,\n",
       "       0, 0, 0, 0, 0, 0, 0, 0, 0, 0, 0, 0, 0, 0, 0, 0, 0, 0, 0, 0, 0, 0,\n",
       "       0, 0, 0, 0, 0, 0, 0, 0, 0, 0, 0, 0, 0, 0, 0, 0, 0, 0, 1, 1, 1, 1,\n",
       "       1, 1, 1, 1, 1, 1, 1, 1, 1, 1, 1, 1, 1, 1, 1, 1, 1, 1, 1, 1, 1, 1,\n",
       "       1, 1, 1, 1, 1, 1, 1, 1, 1, 1, 1, 1, 1, 1, 1, 1, 1, 1, 1, 1, 1, 1,\n",
       "       1, 1, 1, 1, 1, 1, 1, 1, 1, 1, 1, 1, 1, 1, 1, 1, 1, 1, 1, 1, 1, 1,\n",
       "       1, 1, 1, 1, 1, 1, 1, 1, 1, 1, 1, 1, 1, 1, 1, 1, 1, 1, 1, 1, 1, 1,\n",
       "       1, 1, 1, 1, 1, 1, 1, 1, 1, 1, 1, 1, 1, 1, 1, 1, 1, 1, 1, 1, 1, 1,\n",
       "       1, 1, 1, 1, 1, 1, 1, 1, 1, 1, 1, 1, 1, 1, 1, 1, 1, 1, 1, 1, 1, 1,\n",
       "       1, 1, 1, 1, 1, 1, 1, 1, 1, 1, 1, 1, 1, 1])"
      ]
     },
     "execution_count": 13,
     "metadata": {},
     "output_type": "execute_result"
    }
   ],
   "source": [
    "Y_train = np.concatenate((Y_apples ,Y_banana))\n",
    "\n",
    "Y_train"
   ]
  },
  {
   "cell_type": "code",
   "execution_count": 14,
   "metadata": {},
   "outputs": [],
   "source": [
    "def euclidean_distance (x1 , x2) :\n",
    "    return np.sqrt(np.sum((x1 - x2) ** 2))"
   ]
  },
  {
   "cell_type": "code",
   "execution_count": 15,
   "metadata": {},
   "outputs": [
    {
     "data": {
      "text/plain": [
       "6.708203932499369"
      ]
     },
     "execution_count": 15,
     "metadata": {},
     "output_type": "execute_result"
    }
   ],
   "source": [
    "#for example :\n",
    "\n",
    "ahmad = np.array([4,5])\n",
    "reza = np.array([10 ,2])\n",
    "\n",
    "euclidean_distance(ahmad,reza)"
   ]
  },
  {
   "cell_type": "code",
   "execution_count": 16,
   "metadata": {},
   "outputs": [
    {
     "data": {
      "text/plain": [
       "[3.007795656072808,\n",
       " 2.2505024299043175,\n",
       " 2.739525657926742,\n",
       " 2.4174134107798317,\n",
       " 1.0253884500174402,\n",
       " 0.46019024861988267,\n",
       " 0.532831315804233,\n",
       " 2.26912644524315,\n",
       " 1.776436998053358,\n",
       " 1.766249245982159,\n",
       " 1.9688838343780741,\n",
       " 1.1859722867130265,\n",
       " 1.708344350044171,\n",
       " 1.2487186588132517,\n",
       " 2.107357246904555,\n",
       " 3.1949207706836042,\n",
       " 3.0673462499604853,\n",
       " 2.3857420153908806,\n",
       " 1.1588725845773329,\n",
       " 1.196158257185617,\n",
       " 0.8235697362933766,\n",
       " 0.8598781859610152,\n",
       " 2.991725764790363,\n",
       " 1.7786903719367282,\n",
       " 2.7294618617138218,\n",
       " 3.8357797863885676,\n",
       " 2.4999900530329895,\n",
       " 2.6699180083624516,\n",
       " 1.0074078977156176,\n",
       " 3.724768092269557,\n",
       " 1.645618117864613,\n",
       " 1.4466213065671654,\n",
       " 1.5609360411719293,\n",
       " 2.2045218972043377,\n",
       " 1.9216818061343472,\n",
       " 2.993685044566447,\n",
       " 3.240972445517435,\n",
       " 2.8105890163950353,\n",
       " 3.1517109726089663,\n",
       " 3.093775316382017,\n",
       " 1.9047030794252315,\n",
       " 1.9967022535741907,\n",
       " 1.1638361647206856,\n",
       " 2.2885311494179486,\n",
       " 0.5405492678027979,\n",
       " 1.2994970661406657,\n",
       " 2.3002295983034435,\n",
       " 3.148001400222615,\n",
       " 2.7155670157770544,\n",
       " 2.3567464731902157,\n",
       " 2.901986025434216,\n",
       " 1.170861367614033,\n",
       " 2.655269545298369,\n",
       " 0.3267602589578378,\n",
       " 0.3315972983779967,\n",
       " 0.13460977166300234,\n",
       " 3.3019336001894666,\n",
       " 3.1927862378548744,\n",
       " 1.5153043371515436,\n",
       " 1.916167509502396,\n",
       " 2.187698498286419,\n",
       " 1.8420590436680413,\n",
       " 1.4713794368598712,\n",
       " 3.098978498499071,\n",
       " 1.0928386956504443,\n",
       " 1.0513950189604953,\n",
       " 2.3746162879495576,\n",
       " 0.3116706051184864,\n",
       " 3.2518869977718308,\n",
       " 2.304415849588304,\n",
       " 2.658427838976643,\n",
       " 2.1469488955933898,\n",
       " 1.5516337499646848,\n",
       " 1.1524589644121837,\n",
       " 1.087555374032538,\n",
       " 2.003140794562165,\n",
       " 2.127345095086038,\n",
       " 2.874497101681227,\n",
       " 2.1071871363969197,\n",
       " 1.0416425222102186,\n",
       " 0.9319293040350981,\n",
       " 1.1869104908898587,\n",
       " 2.272410989261574,\n",
       " 0.984461634009785,\n",
       " 3.7549739270514397,\n",
       " 2.6155267103116167,\n",
       " 1.9160722338404832,\n",
       " 1.416568333839546,\n",
       " 2.770291370359301,\n",
       " 1.012008961398963,\n",
       " 0.6613765204233697,\n",
       " 3.062272459188992,\n",
       " 1.265437606378573,\n",
       " 2.7998909871192703,\n",
       " 2.567236633639644,\n",
       " 2.24116058315417,\n",
       " 2.0465425386851743,\n",
       " 1.6063835149299586,\n",
       " 1.5423925289759728,\n",
       " 0.41640053726561843,\n",
       " 1.8957109764207571,\n",
       " 1.1601389745947681,\n",
       " 2.802199451597839,\n",
       " 1.9669375807443585,\n",
       " 1.155625884231383,\n",
       " 1.636005336738562,\n",
       " 2.641673621571139,\n",
       " 1.7022247276310125,\n",
       " 0.9621375027773621,\n",
       " 1.2133983439479508,\n",
       " 2.208532898070699,\n",
       " 1.2024163331898252,\n",
       " 2.76149729358256,\n",
       " 1.494622343074315,\n",
       " 2.1083908997915626,\n",
       " 1.3831146955909692,\n",
       " 2.241150258216049,\n",
       " 1.9837675721912844,\n",
       " 2.9314917903836366,\n",
       " 1.558228343442386,\n",
       " 1.7088148923866955,\n",
       " 3.468847985320026,\n",
       " 0.7510009769477215,\n",
       " 3.0679004452609733,\n",
       " 0.9048320017486123,\n",
       " 1.852077324082253,\n",
       " 1.7584921995062703,\n",
       " 2.7312043993686,\n",
       " 2.779113557374414,\n",
       " 2.0863578452012774,\n",
       " 2.4032245762186575,\n",
       " 2.1618564603559247,\n",
       " 1.6648984366095232,\n",
       " 3.305331110681083,\n",
       " 1.9559799934738185,\n",
       " 3.827542107248287,\n",
       " 2.0746922258930796,\n",
       " 2.557511866776585,\n",
       " 2.5835524721336465,\n",
       " 0.8231770016003371,\n",
       " 0.9457847550494958,\n",
       " 1.7110294501795489,\n",
       " 0.17563714936176947,\n",
       " 2.5276441662571605,\n",
       " 1.6898178164206505,\n",
       " 1.5193362897303753,\n",
       " 2.912502913070267,\n",
       " 1.2604007591738606,\n",
       " 0.7805659874730619,\n",
       " 0.8132619963718265,\n",
       " 0.7537992734050869,\n",
       " 2.0061408279240998,\n",
       " 0.5367558624916325,\n",
       " 2.1218136595535086,\n",
       " 0.3839238770112826,\n",
       " 1.2445813378694304,\n",
       " 1.710366415890501,\n",
       " 3.265351266603544,\n",
       " 2.9197746566005915,\n",
       " 2.5783434384279342,\n",
       " 1.649117217685704,\n",
       " 2.1987886491526387,\n",
       " 2.611705846126713,\n",
       " 2.125806194495514,\n",
       " 0.7877628429814504,\n",
       " 1.2540170676301508,\n",
       " 2.6846330659735855,\n",
       " 2.7722308484895484,\n",
       " 2.0856870600895294,\n",
       " 2.2819872172292714,\n",
       " 1.4148136320289209,\n",
       " 0.8634787966361257,\n",
       " 1.6702172538656495,\n",
       " 3.2080315783593973,\n",
       " 1.6337360220837125,\n",
       " 2.1905853045955768,\n",
       " 1.5006891032546088,\n",
       " 2.5775634542475294,\n",
       " 1.7508788113754143,\n",
       " 2.6663230044441515,\n",
       " 2.631361494937746,\n",
       " 2.6397731050299,\n",
       " 0.9290716084622145,\n",
       " 1.3589323313467998,\n",
       " 1.3808257957861165,\n",
       " 0.3348494517675908,\n",
       " 2.0803721679259617,\n",
       " 1.8953235636463286,\n",
       " 2.22816397346671,\n",
       " 1.233269651921748,\n",
       " 1.5026300298811752,\n",
       " 2.4087279707581324,\n",
       " 0.9004398140342909,\n",
       " 2.6381451645261014,\n",
       " 0.4102463718503072,\n",
       " 3.4577632978898474,\n",
       " 0.7332864968313992,\n",
       " 1.41349047184174,\n",
       " 3.10724964430321,\n",
       " 1.6013802960770018,\n",
       " 1.1946960565934406,\n",
       " 2.5655322309206507,\n",
       " 1.1563219992258018,\n",
       " 1.8679689943103188,\n",
       " 2.6078706642490768,\n",
       " 1.8795918310320316,\n",
       " 0.3988238112300165,\n",
       " 2.155415594421995,\n",
       " 2.0643596408512237,\n",
       " 3.3349856392901507,\n",
       " 0.6452700728106219,\n",
       " 3.9221915418724405,\n",
       " 0.9512010227632707,\n",
       " 2.0571820144246726,\n",
       " 1.8573941281134907,\n",
       " 2.454631667437659,\n",
       " 4.667633418862735,\n",
       " 2.1160725109054033,\n",
       " 1.2527407986364605,\n",
       " 1.5080817950671397,\n",
       " 2.3271927446041083,\n",
       " 1.927159716346017,\n",
       " 1.5807869125375322,\n",
       " 2.715066747808592,\n",
       " 1.6817667436423203,\n",
       " 2.1846738547907316,\n",
       " 3.808507068440446,\n",
       " 2.9221904829533214,\n",
       " 2.3555678844624066,\n",
       " 2.7121857324451537,\n",
       " 3.5113988057685392,\n",
       " 1.1665168400180495,\n",
       " 0.6637394178151969,\n",
       " 2.306070473703447,\n",
       " 2.7350115765752783,\n",
       " 3.406484401993944,\n",
       " 1.159770013805676,\n",
       " 1.9990877701310816,\n",
       " 2.149124614288302,\n",
       " 3.0032979895246226,\n",
       " 0.8172495726051228,\n",
       " 0.5745565714577779,\n",
       " 2.092012803683602,\n",
       " 3.338715491509959,\n",
       " 2.305947024133363,\n",
       " 2.8846831444229917,\n",
       " 2.281145732606952,\n",
       " 1.7303212684278966,\n",
       " 2.565182124386912,\n",
       " 2.7959520128240056,\n",
       " 1.6135975797604476,\n",
       " 1.4615248543126456,\n",
       " 1.1799210235217108,\n",
       " 1.2951392528174046,\n",
       " 3.4118979892215875,\n",
       " 0.7385627762517505,\n",
       " 2.429699255277695,\n",
       " 1.1023154570526281,\n",
       " 1.0899506609850917,\n",
       " 0.3051782247763082,\n",
       " 3.238360566798711,\n",
       " 2.4231298744957197,\n",
       " 1.6397572464312136,\n",
       " 2.487526985582347,\n",
       " 0.5675457561765296,\n",
       " 1.1578264417650785,\n",
       " 1.09069729429202,\n",
       " 2.3166642277987095,\n",
       " 2.3758942482738794,\n",
       " 3.0539794412887535,\n",
       " 1.8021540300457826,\n",
       " 1.4763501920838533,\n",
       " 1.6619068644568362,\n",
       " 1.3383052409838923,\n",
       " 1.4061871901052012,\n",
       " 2.3619413467901835,\n",
       " 1.5652024176182173,\n",
       " 0.8072361556543628,\n",
       " 0.4788771291246252,\n",
       " 2.2998577602124772,\n",
       " 3.3278940492513516,\n",
       " 1.3276291132934324,\n",
       " 2.2071519956775214,\n",
       " 2.043431135516373,\n",
       " 1.5022028265881162,\n",
       " 1.8417234398912463,\n",
       " 3.103975179258193,\n",
       " 3.0687303728484316,\n",
       " 2.2652007431185748,\n",
       " 1.2624689377530656,\n",
       " 1.1463837851878513,\n",
       " 2.6369495455247844,\n",
       " 1.6737345149819647,\n",
       " 2.496733400715319,\n",
       " 1.3263747652919562,\n",
       " 0.2743189997491549,\n",
       " 2.5739711464979185,\n",
       " 1.8891011543060747,\n",
       " 1.4851121282633835,\n",
       " 0.6530347244586551]"
      ]
     },
     "execution_count": 16,
     "metadata": {},
     "output_type": "execute_result"
    }
   ],
   "source": [
    "new_fruit = np.array([5,7])\n",
    "\n",
    "distances=[]\n",
    "for x in X_train :\n",
    "    d= euclidean_distance(new_fruit,x)\n",
    "    distances.append(d)\n",
    "distances\n"
   ]
  },
  {
   "cell_type": "code",
   "execution_count": 17,
   "metadata": {},
   "outputs": [],
   "source": [
    "k = 5"
   ]
  },
  {
   "cell_type": "code",
   "execution_count": 18,
   "metadata": {},
   "outputs": [
    {
     "data": {
      "text/plain": [
       "array([ 55, 142, 295, 259,  67], dtype=int64)"
      ]
     },
     "execution_count": 18,
     "metadata": {},
     "output_type": "execute_result"
    }
   ],
   "source": [
    "np.argsort(distances)[0:k]"
   ]
  },
  {
   "cell_type": "code",
   "execution_count": 19,
   "metadata": {},
   "outputs": [],
   "source": [
    "nearest_neighbors =np.argsort(distances)[0:k]"
   ]
  },
  {
   "cell_type": "code",
   "execution_count": 20,
   "metadata": {},
   "outputs": [
    {
     "data": {
      "text/plain": [
       "array([0, 0, 1, 1, 0])"
      ]
     },
     "execution_count": 20,
     "metadata": {},
     "output_type": "execute_result"
    }
   ],
   "source": [
    "Y_train[nearest_neighbors]"
   ]
  },
  {
   "cell_type": "code",
   "execution_count": 21,
   "metadata": {},
   "outputs": [
    {
     "data": {
      "text/plain": [
       "array([3, 2], dtype=int64)"
      ]
     },
     "execution_count": 21,
     "metadata": {},
     "output_type": "execute_result"
    }
   ],
   "source": [
    "result=np.bincount(Y_train[nearest_neighbors])\n",
    "result"
   ]
  },
  {
   "cell_type": "code",
   "execution_count": 22,
   "metadata": {},
   "outputs": [
    {
     "data": {
      "text/plain": [
       "0"
      ]
     },
     "execution_count": 22,
     "metadata": {},
     "output_type": "execute_result"
    }
   ],
   "source": [
    "np.argmax(result)"
   ]
  },
  {
   "cell_type": "code",
   "execution_count": 23,
   "metadata": {},
   "outputs": [
    {
     "name": "stdout",
     "output_type": "stream",
     "text": [
      "🍎\n"
     ]
    }
   ],
   "source": [
    "if np.argmax(result) == 0 :\n",
    "    print('🍎')\n",
    "else :\n",
    "    print('🍌')"
   ]
  }
 ],
 "metadata": {
  "kernelspec": {
   "display_name": "Python 3",
   "language": "python",
   "name": "python3"
  },
  "language_info": {
   "codemirror_mode": {
    "name": "ipython",
    "version": 3
   },
   "file_extension": ".py",
   "mimetype": "text/x-python",
   "name": "python",
   "nbconvert_exporter": "python",
   "pygments_lexer": "ipython3",
   "version": "3.11.4"
  },
  "orig_nbformat": 4
 },
 "nbformat": 4,
 "nbformat_minor": 2
}
