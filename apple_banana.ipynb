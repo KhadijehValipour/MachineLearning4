{
 "cells": [
  {
   "attachments": {},
   "cell_type": "markdown",
   "metadata": {},
   "source": [
    "![my picture](https://cdn.firstcry.com/education/2022/10/08180421/I-Like-To-Eat-Apples-And-Bananas-Nursery-Rhyme2-1.jpg)\n",
    "\n",
    "\n",
    "- apple width ≈ 6cm\n",
    "- apple length ≈ 6cm\n",
    "- banana width ≈ 4cm\n",
    "- banana length ≈ 8cm\n",
    "\n",
    "\n",
    "apple : 0\n",
    "\n",
    "banana : 1\n",
    "\n"
   ]
  },
  {
   "cell_type": "code",
   "execution_count": 123,
   "metadata": {},
   "outputs": [],
   "source": [
    "import numpy as np \n",
    "import matplotlib.pyplot as plt"
   ]
  },
  {
   "cell_type": "code",
   "execution_count": 124,
   "metadata": {},
   "outputs": [],
   "source": [
    "n=150\n",
    "apple_width = np.random.normal(6,1,n)\n",
    "apple_length = np.random.normal(6,1,n)\n",
    "\n",
    "banana_width = np.random.normal(4,1,n)\n",
    "banana_length = np.random.normal(8,1,n)"
   ]
  },
  {
   "cell_type": "code",
   "execution_count": 125,
   "metadata": {},
   "outputs": [],
   "source": [
    "x_width = 3\n",
    "x_length = 9"
   ]
  },
  {
   "cell_type": "code",
   "execution_count": 126,
   "metadata": {},
   "outputs": [],
   "source": [
    "y_width = 7\n",
    "y_length = 5"
   ]
  },
  {
   "cell_type": "code",
   "execution_count": 127,
   "metadata": {},
   "outputs": [],
   "source": [
    "z_width = 5\n",
    "z_length = 7"
   ]
  },
  {
   "cell_type": "code",
   "execution_count": 128,
   "metadata": {},
   "outputs": [
    {
     "data": {
      "image/png": "[encoded data removed]",
      "text/plain": [
       "<Figure size 640x480 with 1 Axes>"
      ]
     },
     "metadata": {},
     "output_type": "display_data"
    }
   ],
   "source": [
    "plt.scatter(apple_width , apple_length ,color='red' , marker='.')\n",
    "plt.scatter(banana_width ,banana_length , c='gold' , marker='.')\n",
    "\n",
    "plt.scatter(x_width ,x_length ,c='blue' ,marker='o')\n",
    "plt.scatter(y_width , y_length , c='lime' , marker='o')\n",
    "\n",
    "plt.scatter(z_width ,z_length , c='Black' , marker='o')\n",
    "\n",
    "plt.xlabel(\"width\")\n",
    "plt.ylabel(\"length\")\n",
    "plt.title(\"Apple and Banana\")\n",
    "plt.show()"
   ]
  },
  {
   "cell_type": "code",
   "execution_count": 129,
   "metadata": {},
   "outputs": [],
   "source": [
    "#  KNN : K  Nearest Neightbors"
   ]
  },
  {
   "cell_type": "code",
   "execution_count": 130,
   "metadata": {},
   "outputs": [
    {
     "data": {
      "text/plain": [
       "(300, 2)"
      ]
     },
     "execution_count": 130,
     "metadata": {},
     "output_type": "execute_result"
    }
   ],
   "source": [
    "width = np.concatenate((apple_width , banana_width))\n",
    "length = np.concatenate((apple_length , banana_length))\n",
    "\n",
    "X_train = np.array([width , length]).T\n",
    "X_train.shape"
   ]
  },
  {
   "cell_type": "code",
   "execution_count": 131,
   "metadata": {},
   "outputs": [
    {
     "data": {
      "text/plain": [
       "array([[6.48768968, 3.98376991],\n",
       "       [6.30478569, 5.68625908],\n",
       "       [5.83038163, 5.42297457],\n",
       "       [6.27842457, 5.65611716],\n",
       "       [7.87578049, 6.80134917]])"
      ]
     },
     "execution_count": 131,
     "metadata": {},
     "output_type": "execute_result"
    }
   ],
   "source": [
    "X_train[:5]"
   ]
  },
  {
   "cell_type": "code",
   "execution_count": 132,
   "metadata": {},
   "outputs": [
    {
     "data": {
      "text/plain": [
       "array([0, 0, 0, 0, 0, 0, 0, 0, 0, 0, 0, 0, 0, 0, 0, 0, 0, 0, 0, 0, 0, 0,\n",
       "       0, 0, 0, 0, 0, 0, 0, 0, 0, 0, 0, 0, 0, 0, 0, 0, 0, 0, 0, 0, 0, 0,\n",
       "       0, 0, 0, 0, 0, 0, 0, 0, 0, 0, 0, 0, 0, 0, 0, 0, 0, 0, 0, 0, 0, 0,\n",
       "       0, 0, 0, 0, 0, 0, 0, 0, 0, 0, 0, 0, 0, 0, 0, 0, 0, 0, 0, 0, 0, 0,\n",
       "       0, 0, 0, 0, 0, 0, 0, 0, 0, 0, 0, 0, 0, 0, 0, 0, 0, 0, 0, 0, 0, 0,\n",
       "       0, 0, 0, 0, 0, 0, 0, 0, 0, 0, 0, 0, 0, 0, 0, 0, 0, 0, 0, 0, 0, 0,\n",
       "       0, 0, 0, 0, 0, 0, 0, 0, 0, 0, 0, 0, 0, 0, 0, 0, 0, 0])"
      ]
     },
     "execution_count": 132,
     "metadata": {},
     "output_type": "execute_result"
    }
   ],
   "source": [
    "Y_apples = np.zeros(n ,dtype='int')\n",
    "\n",
    "Y_apples"
   ]
  },
  {
   "cell_type": "code",
   "execution_count": 133,
   "metadata": {},
   "outputs": [
    {
     "data": {
      "text/plain": [
       "array([1, 1, 1, 1, 1, 1, 1, 1, 1, 1, 1, 1, 1, 1, 1, 1, 1, 1, 1, 1, 1, 1,\n",
       "       1, 1, 1, 1, 1, 1, 1, 1, 1, 1, 1, 1, 1, 1, 1, 1, 1, 1, 1, 1, 1, 1,\n",
       "       1, 1, 1, 1, 1, 1, 1, 1, 1, 1, 1, 1, 1, 1, 1, 1, 1, 1, 1, 1, 1, 1,\n",
       "       1, 1, 1, 1, 1, 1, 1, 1, 1, 1, 1, 1, 1, 1, 1, 1, 1, 1, 1, 1, 1, 1,\n",
       "       1, 1, 1, 1, 1, 1, 1, 1, 1, 1, 1, 1, 1, 1, 1, 1, 1, 1, 1, 1, 1, 1,\n",
       "       1, 1, 1, 1, 1, 1, 1, 1, 1, 1, 1, 1, 1, 1, 1, 1, 1, 1, 1, 1, 1, 1,\n",
       "       1, 1, 1, 1, 1, 1, 1, 1, 1, 1, 1, 1, 1, 1, 1, 1, 1, 1])"
      ]
     },
     "execution_count": 133,
     "metadata": {},
     "output_type": "execute_result"
    }
   ],
   "source": [
    "Y_banana = np.ones(n,dtype='int')\n",
    "\n",
    "Y_banana"
   ]
  },
  {
   "cell_type": "code",
   "execution_count": 134,
   "metadata": {},
   "outputs": [
    {
     "data": {
      "text/plain": [
       "array([0, 0, 0, 0, 0, 0, 0, 0, 0, 0, 0, 0, 0, 0, 0, 0, 0, 0, 0, 0, 0, 0,\n",
       "       0, 0, 0, 0, 0, 0, 0, 0, 0, 0, 0, 0, 0, 0, 0, 0, 0, 0, 0, 0, 0, 0,\n",
       "       0, 0, 0, 0, 0, 0, 0, 0, 0, 0, 0, 0, 0, 0, 0, 0, 0, 0, 0, 0, 0, 0,\n",
       "       0, 0, 0, 0, 0, 0, 0, 0, 0, 0, 0, 0, 0, 0, 0, 0, 0, 0, 0, 0, 0, 0,\n",
       "       0, 0, 0, 0, 0, 0, 0, 0, 0, 0, 0, 0, 0, 0, 0, 0, 0, 0, 0, 0, 0, 0,\n",
       "       0, 0, 0, 0, 0, 0, 0, 0, 0, 0, 0, 0, 0, 0, 0, 0, 0, 0, 0, 0, 0, 0,\n",
       "       0, 0, 0, 0, 0, 0, 0, 0, 0, 0, 0, 0, 0, 0, 0, 0, 0, 0, 1, 1, 1, 1,\n",
       "       1, 1, 1, 1, 1, 1, 1, 1, 1, 1, 1, 1, 1, 1, 1, 1, 1, 1, 1, 1, 1, 1,\n",
       "       1, 1, 1, 1, 1, 1, 1, 1, 1, 1, 1, 1, 1, 1, 1, 1, 1, 1, 1, 1, 1, 1,\n",
       "       1, 1, 1, 1, 1, 1, 1, 1, 1, 1, 1, 1, 1, 1, 1, 1, 1, 1, 1, 1, 1, 1,\n",
       "       1, 1, 1, 1, 1, 1, 1, 1, 1, 1, 1, 1, 1, 1, 1, 1, 1, 1, 1, 1, 1, 1,\n",
       "       1, 1, 1, 1, 1, 1, 1, 1, 1, 1, 1, 1, 1, 1, 1, 1, 1, 1, 1, 1, 1, 1,\n",
       "       1, 1, 1, 1, 1, 1, 1, 1, 1, 1, 1, 1, 1, 1, 1, 1, 1, 1, 1, 1, 1, 1,\n",
       "       1, 1, 1, 1, 1, 1, 1, 1, 1, 1, 1, 1, 1, 1])"
      ]
     },
     "execution_count": 134,
     "metadata": {},
     "output_type": "execute_result"
    }
   ],
   "source": [
    "Y_train = np.concatenate((Y_apples ,Y_banana))\n",
    "\n",
    "Y_train"
   ]
  },
  {
   "cell_type": "code",
   "execution_count": 135,
   "metadata": {},
   "outputs": [],
   "source": [
    "def euclidean_distance (x1 , x2) :\n",
    "    return np.sqrt(np.sum((x1 - x2) ** 2))"
   ]
  },
  {
   "cell_type": "code",
   "execution_count": 136,
   "metadata": {},
   "outputs": [
    {
     "data": {
      "text/plain": [
       "6.708203932499369"
      ]
     },
     "execution_count": 136,
     "metadata": {},
     "output_type": "execute_result"
    }
   ],
   "source": [
    "#for example :\n",
    "\n",
    "ahmad = np.array([4,5])\n",
    "reza = np.array([10 ,2])\n",
    "\n",
    "euclidean_distance(ahmad,reza)"
   ]
  },
  {
   "cell_type": "code",
   "execution_count": 137,
   "metadata": {},
   "outputs": [
    {
     "data": {
      "text/plain": [
       "[3.3631628825845166,\n",
       " 1.851588754973682,\n",
       " 1.7822858546402018,\n",
       " 1.854828962106853,\n",
       " 2.882633446339883,\n",
       " 1.3113495509892956,\n",
       " 2.255899177867752,\n",
       " 0.7539665978305309,\n",
       " 1.1330497602428162,\n",
       " 0.4665436140484314,\n",
       " 2.574479554876846,\n",
       " 0.936489537943494,\n",
       " 2.4895191763475166,\n",
       " 1.5127836431763337,\n",
       " 3.0828664275953224,\n",
       " 3.427347409994732,\n",
       " 2.619990457232169,\n",
       " 2.3660312941961217,\n",
       " 1.981257002154713,\n",
       " 1.711787700988335,\n",
       " 3.6223824462348255,\n",
       " 2.375991214084202,\n",
       " 1.943971322899822,\n",
       " 2.7544003667218573,\n",
       " 1.0657456603540199,\n",
       " 1.0116476916848431,\n",
       " 1.7285581076488115,\n",
       " 1.2174801659923784,\n",
       " 2.2715159516315837,\n",
       " 1.2142812297894763,\n",
       " 1.0117176327379236,\n",
       " 1.912279951958107,\n",
       " 1.9406676064593156,\n",
       " 0.5647959854001037,\n",
       " 1.4189186940544507,\n",
       " 1.7747969637600245,\n",
       " 2.465234467368692,\n",
       " 2.3226323309538186,\n",
       " 3.370726747174529,\n",
       " 3.349542278840841,\n",
       " 0.42682294049043323,\n",
       " 2.3701320173180647,\n",
       " 1.4101478453945437,\n",
       " 1.4441485827331464,\n",
       " 0.5334596385164568,\n",
       " 1.4713744541847258,\n",
       " 1.4827004464155737,\n",
       " 2.0080500689810528,\n",
       " 1.489073122758048,\n",
       " 1.6089158047919763,\n",
       " 1.1517523144074788,\n",
       " 1.4542242842385176,\n",
       " 1.8103185622953806,\n",
       " 0.8853703740714353,\n",
       " 2.275255164060791,\n",
       " 2.900073346743432,\n",
       " 2.6306543016145025,\n",
       " 2.4336435894788258,\n",
       " 0.8023901514958873,\n",
       " 1.1709557180469252,\n",
       " 1.19215784159905,\n",
       " 1.6512636690517621,\n",
       " 1.4806725038436135,\n",
       " 1.3818921065931766,\n",
       " 1.63761835350998,\n",
       " 0.9087314621980686,\n",
       " 0.642017608845208,\n",
       " 3.4389568440997094,\n",
       " 1.9081056437516943,\n",
       " 4.5857553626842655,\n",
       " 2.4060587364019606,\n",
       " 1.1057872526846224,\n",
       " 0.8899239249677536,\n",
       " 1.7517334763768273,\n",
       " 2.8712871441099552,\n",
       " 2.182999163032411,\n",
       " 1.8733084872492882,\n",
       " 1.5107273330828856,\n",
       " 1.3875249156128644,\n",
       " 2.2089504733359204,\n",
       " 2.5055300781847714,\n",
       " 2.107763262739955,\n",
       " 1.570617827266797,\n",
       " 1.0232031078051165,\n",
       " 1.8062247494410848,\n",
       " 0.510781726282449,\n",
       " 1.107809479668161,\n",
       " 2.6205116983995222,\n",
       " 1.1774032313228628,\n",
       " 3.0743149690936673,\n",
       " 1.8385371309171088,\n",
       " 3.658661829628194,\n",
       " 0.11460525300521421,\n",
       " 2.49394198567174,\n",
       " 2.821247675519446,\n",
       " 2.250021905673955,\n",
       " 1.9965010344989698,\n",
       " 1.839273638293027,\n",
       " 2.3479350710793128,\n",
       " 2.5797560434965137,\n",
       " 2.539800355836678,\n",
       " 1.5439338007417744,\n",
       " 2.6849179706437236,\n",
       " 0.3496941666941938,\n",
       " 0.8282688434421691,\n",
       " 2.2821129756687353,\n",
       " 2.184684215873607,\n",
       " 1.9152370273762578,\n",
       " 1.662031934114363,\n",
       " 1.1666064794375872,\n",
       " 0.9846101887028805,\n",
       " 3.5322665337592984,\n",
       " 2.137893481961205,\n",
       " 0.7560338216791259,\n",
       " 0.8514175706164593,\n",
       " 0.7486225039166616,\n",
       " 2.1531541513933288,\n",
       " 1.8261787278272428,\n",
       " 2.461228398076267,\n",
       " 1.7215926907234533,\n",
       " 2.7012347124155434,\n",
       " 1.4883285029132125,\n",
       " 1.8047841710055172,\n",
       " 3.432753043924534,\n",
       " 2.653716943278926,\n",
       " 2.84815774513988,\n",
       " 1.177164898565184,\n",
       " 1.2602970490091001,\n",
       " 2.9754861467852485,\n",
       " 1.507611633205697,\n",
       " 1.7588686751603384,\n",
       " 0.44694478786923736,\n",
       " 0.9830393115306132,\n",
       " 1.8157521255516544,\n",
       " 1.486888697798813,\n",
       " 1.3602897357465296,\n",
       " 1.4035575968059928,\n",
       " 1.4776776664464788,\n",
       " 2.8395036135202765,\n",
       " 1.751492478863725,\n",
       " 2.693120909249028,\n",
       " 2.5168072418117062,\n",
       " 3.150740036638746,\n",
       " 1.4946715945797229,\n",
       " 0.9447340973279784,\n",
       " 1.7374358971641402,\n",
       " 1.9651747437463791,\n",
       " 1.2287719714205823,\n",
       " 0.27343002014817,\n",
       " 3.584069750925794,\n",
       " 0.9489707091464652,\n",
       " 1.0963107097064075,\n",
       " 1.886130648621211,\n",
       " 2.2156500755020985,\n",
       " 0.6850636568223143,\n",
       " 1.7309714020870142,\n",
       " 3.5798116283156687,\n",
       " 1.9743690393561701,\n",
       " 1.6136697318745816,\n",
       " 2.5183224246505556,\n",
       " 1.8532272978383684,\n",
       " 1.844485484521901,\n",
       " 2.4622352169966866,\n",
       " 1.9440772025188555,\n",
       " 2.6691642460617904,\n",
       " 1.3904342461468733,\n",
       " 2.0499167777606604,\n",
       " 1.4286763935768614,\n",
       " 0.5723776912864105,\n",
       " 0.24549507498117903,\n",
       " 1.0070739094317716,\n",
       " 2.3122276589583266,\n",
       " 0.7672312458607178,\n",
       " 1.9848404648864837,\n",
       " 2.2039702757722903,\n",
       " 1.796427642389114,\n",
       " 3.6047898002499497,\n",
       " 0.8774079971612957,\n",
       " 4.07556247873914,\n",
       " 1.012693346707806,\n",
       " 3.2250497836190117,\n",
       " 1.8069309269370428,\n",
       " 0.2087911741737923,\n",
       " 1.7319577721918602,\n",
       " 0.6034844222155703,\n",
       " 2.4360235567867057,\n",
       " 1.1902594342917998,\n",
       " 2.3981193829473693,\n",
       " 3.1345614492448726,\n",
       " 3.1587042646329295,\n",
       " 1.0922909279946182,\n",
       " 1.573776106601251,\n",
       " 0.9400477884558287,\n",
       " 2.2400940386858084,\n",
       " 0.9038085027725876,\n",
       " 1.95364996580329,\n",
       " 1.2034384662120055,\n",
       " 1.3597017184256353,\n",
       " 1.8318458188128752,\n",
       " 1.0801685364843017,\n",
       " 1.8134997283240657,\n",
       " 1.9103767714607645,\n",
       " 2.6737099346844797,\n",
       " 2.762170088186129,\n",
       " 0.7373598898268209,\n",
       " 1.8627377716356006,\n",
       " 2.319332888778452,\n",
       " 2.3698572300636838,\n",
       " 1.2518319390203292,\n",
       " 0.8871904181326604,\n",
       " 0.7268736283673015,\n",
       " 2.2533502268925956,\n",
       " 1.9817624349829823,\n",
       " 1.0792791141808105,\n",
       " 0.552817290349134,\n",
       " 2.0961459261225612,\n",
       " 2.7055282251818045,\n",
       " 2.2637312374796097,\n",
       " 1.6493579799311466,\n",
       " 0.5445237281175928,\n",
       " 2.3169713637255915,\n",
       " 1.9456349363909082,\n",
       " 1.5406083167786342,\n",
       " 2.6803192294896965,\n",
       " 1.099950384485466,\n",
       " 1.1681975751514357,\n",
       " 1.9759721092064517,\n",
       " 2.046485369168756,\n",
       " 0.19528619853274556,\n",
       " 0.5469302197481016,\n",
       " 2.332022265232291,\n",
       " 1.1080796364591115,\n",
       " 2.473182034547794,\n",
       " 1.2733403892414712,\n",
       " 2.401483369473236,\n",
       " 3.0702123856041936,\n",
       " 1.907181247566694,\n",
       " 1.3107351981353261,\n",
       " 1.6095425533308896,\n",
       " 3.483522754252431,\n",
       " 1.414568576913091,\n",
       " 1.8899753153991956,\n",
       " 3.0613636733171843,\n",
       " 2.8299841140224236,\n",
       " 1.9493386164290925,\n",
       " 1.160174063385134,\n",
       " 2.1246349478751485,\n",
       " 2.038463824352461,\n",
       " 1.6930023327489812,\n",
       " 2.1557274732973433,\n",
       " 1.4105588770168112,\n",
       " 2.6560143805339513,\n",
       " 2.5627568354116166,\n",
       " 0.7099173075025412,\n",
       " 0.29310425717841954,\n",
       " 0.7413176868185181,\n",
       " 0.9797474960866536,\n",
       " 2.1814790829583446,\n",
       " 4.189070840853034,\n",
       " 0.9023294662395783,\n",
       " 2.2754757913871653,\n",
       " 1.9895195191513062,\n",
       " 1.20005155241848,\n",
       " 1.2503471577991312,\n",
       " 3.0389821167150406,\n",
       " 3.5110113411716886,\n",
       " 3.3253804788569536,\n",
       " 0.9763352833313172,\n",
       " 2.0234248297409465,\n",
       " 2.361747546822889,\n",
       " 1.1712945458386894,\n",
       " 1.624799746883059,\n",
       " 3.239591650278895,\n",
       " 3.3316816673184495,\n",
       " 0.7215278778690398,\n",
       " 1.984363268348006,\n",
       " 0.6103644936436768,\n",
       " 2.333669675279286,\n",
       " 0.6309940596138434,\n",
       " 4.088389387884333,\n",
       " 3.4980629566691457,\n",
       " 1.002392923997596,\n",
       " 1.7482323055707598,\n",
       " 1.1413822467433161,\n",
       " 2.692879739406418,\n",
       " 0.4472000715900397,\n",
       " 0.8560473393909491,\n",
       " 2.156769875949911,\n",
       " 1.979118503746875,\n",
       " 1.0137406459945775,\n",
       " 2.0463907345373618,\n",
       " 0.9397071432803001,\n",
       " 2.607774276122668,\n",
       " 2.050005977891506,\n",
       " 4.010792833386845,\n",
       " 2.071624891046829,\n",
       " 2.6222733284859574,\n",
       " 0.5509039171094784,\n",
       " 3.0213226552117134,\n",
       " 2.753025934746687]"
      ]
     },
     "execution_count": 137,
     "metadata": {},
     "output_type": "execute_result"
    }
   ],
   "source": [
    "new_fruit = np.array([5,7])\n",
    "\n",
    "distances=[]\n",
    "for x in X_train :\n",
    "    d= euclidean_distance(new_fruit,x)\n",
    "    distances.append(d)\n",
    "distances\n"
   ]
  },
  {
   "cell_type": "code",
   "execution_count": 138,
   "metadata": {},
   "outputs": [],
   "source": [
    "k = 5"
   ]
  },
  {
   "cell_type": "code",
   "execution_count": 139,
   "metadata": {},
   "outputs": [
    {
     "data": {
      "text/plain": [
       "array([ 92, 228, 182, 169, 148], dtype=int64)"
      ]
     },
     "execution_count": 139,
     "metadata": {},
     "output_type": "execute_result"
    }
   ],
   "source": [
    "np.argsort(distances)[0:k]"
   ]
  },
  {
   "cell_type": "code",
   "execution_count": 140,
   "metadata": {},
   "outputs": [],
   "source": [
    "nearest_neighbors =np.argsort(distances)[0:k]"
   ]
  },
  {
   "cell_type": "code",
   "execution_count": 141,
   "metadata": {},
   "outputs": [
    {
     "data": {
      "text/plain": [
       "array([0, 1, 1, 1, 0])"
      ]
     },
     "execution_count": 141,
     "metadata": {},
     "output_type": "execute_result"
    }
   ],
   "source": [
    "Y_train[nearest_neighbors]"
   ]
  },
  {
   "cell_type": "code",
   "execution_count": 150,
   "metadata": {},
   "outputs": [
    {
     "data": {
      "text/plain": [
       "array([2, 3], dtype=int64)"
      ]
     },
     "execution_count": 150,
     "metadata": {},
     "output_type": "execute_result"
    }
   ],
   "source": [
    "result=np.bincount(Y_train[nearest_neighbors])\n",
    "result"
   ]
  },
  {
   "cell_type": "code",
   "execution_count": 151,
   "metadata": {},
   "outputs": [
    {
     "data": {
      "text/plain": [
       "1"
      ]
     },
     "execution_count": 151,
     "metadata": {},
     "output_type": "execute_result"
    }
   ],
   "source": [
    "np.argmax(result)"
   ]
  },
  {
   "cell_type": "code",
   "execution_count": 152,
   "metadata": {},
   "outputs": [
    {
     "name": "stdout",
     "output_type": "stream",
     "text": [
      "🍌\n"
     ]
    }
   ],
   "source": [
    "if np.argmax(result) == 0 :\n",
    "    print('🍎')\n",
    "else :\n",
    "    print('🍌')"
   ]
  }
 ],
 "metadata": {
  "kernelspec": {
   "display_name": "Python 3",
   "language": "python",
   "name": "python3"
  },
  "language_info": {
   "codemirror_mode": {
    "name": "ipython",
    "version": 3
   },
   "file_extension": ".py",
   "mimetype": "text/x-python",
   "name": "python",
   "nbconvert_exporter": "python",
   "pygments_lexer": "ipython3",
   "version": "3.11.4"
  },
  "orig_nbformat": 4
 },
 "nbformat": 4,
 "nbformat_minor": 2
}
